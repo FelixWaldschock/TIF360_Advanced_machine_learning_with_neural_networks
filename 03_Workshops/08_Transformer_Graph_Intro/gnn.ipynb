{
 "cells": [
  {
   "cell_type": "markdown",
   "metadata": {},
   "source": [
    "# Predicting Molecular Properties with Graph Neural Networks\n",
    "\n",
    "This notebook provides you with a complete code example to predict the properties of small molecules using graph convolutional layers with message passing.\n"
   ]
  },
  {
   "cell_type": "markdown",
   "metadata": {},
   "source": [
    "## Understanding Graph Convolutions\n",
    "\n",
    "Calculate the adjacency matrix of a simple cycle graph ...\n"
   ]
  },
  {
   "cell_type": "code",
   "execution_count": null,
   "metadata": {},
   "outputs": [],
   "source": [
    "# set torch device to mps\n",
    "import torch\n",
    "if torch.backends.mps.is_available():\n",
    "    mps_device = torch.device(\"mps\")\n",
    "    x = torch.ones(1, device=mps_device)\n",
    "    print (x)\n",
    "else:\n",
    "    print (\"MPS device not found.\")\n"
   ]
  },
  {
   "cell_type": "code",
   "execution_count": 24,
   "metadata": {},
   "outputs": [
    {
     "name": "stdout",
     "output_type": "stream",
     "text": [
      "A:\n",
      " [[0. 1. 0. 0. 0.]\n",
      " [0. 0. 1. 0. 0.]\n",
      " [0. 0. 0. 1. 0.]\n",
      " [0. 0. 0. 0. 1.]\n",
      " [1. 0. 0. 0. 0.]]\n"
     ]
    }
   ],
   "source": [
    "import numpy as np\n",
    "\n",
    "node_num = 5\n",
    "\n",
    "A = np.zeros((node_num, node_num))\n",
    "for i in range(node_num):\n",
    "    for j in range(node_num):\n",
    "        if j % node_num == (i + 1) % node_num:\n",
    "            A[i, j] = 1\n",
    "\n",
    "print(\"A:\\n\", A)"
   ]
  },
  {
   "cell_type": "markdown",
   "metadata": {},
   "source": [
    "... assign node features ...\n"
   ]
  },
  {
   "cell_type": "code",
   "execution_count": 25,
   "metadata": {},
   "outputs": [
    {
     "name": "stdout",
     "output_type": "stream",
     "text": [
      "x: [1. 0. 0. 0. 0.]\n",
      "tensor([1.], device='mps:0')\n"
     ]
    }
   ],
   "source": [
    "x = np.zeros(node_num)\n",
    "x[0] = 1\n",
    "\n",
    "print(\"x:\", x)\n",
    "\n",
    "\n"
   ]
  },
  {
   "cell_type": "markdown",
   "metadata": {},
   "source": [
    "... implement a function to perform a graph convolution ...\n"
   ]
  },
  {
   "cell_type": "code",
   "execution_count": 26,
   "metadata": {},
   "outputs": [],
   "source": [
    "def graph_convolution(A, x):\n",
    "    \"\"\"Calculate graph convolution.\"\"\"\n",
    "    conv = np.zeros(node_num)\n",
    "    for i in range(node_num):\n",
    "        for j in range(node_num):\n",
    "            conv[j] += A[i, j] * x[i]\n",
    "    return conv"
   ]
  },
  {
   "cell_type": "markdown",
   "metadata": {},
   "source": [
    "... and apply the graph convolution.\n"
   ]
  },
  {
   "cell_type": "code",
   "execution_count": 27,
   "metadata": {},
   "outputs": [
    {
     "ename": "IndexError",
     "evalue": "index 1 is out of bounds for dimension 0 with size 1",
     "output_type": "error",
     "traceback": [
      "\u001b[0;31m---------------------------------------------------------------------------\u001b[0m",
      "\u001b[0;31mIndexError\u001b[0m                                Traceback (most recent call last)",
      "Cell \u001b[0;32mIn[27], line 2\u001b[0m\n\u001b[1;32m      1\u001b[0m \u001b[38;5;28;01mfor\u001b[39;00m c \u001b[38;5;129;01min\u001b[39;00m \u001b[38;5;28mrange\u001b[39m(\u001b[38;5;241m5\u001b[39m):\n\u001b[0;32m----> 2\u001b[0m     x \u001b[38;5;241m=\u001b[39m \u001b[43mgraph_convolution\u001b[49m\u001b[43m(\u001b[49m\u001b[43mA\u001b[49m\u001b[43m,\u001b[49m\u001b[43m \u001b[49m\u001b[43mx\u001b[49m\u001b[43m)\u001b[49m\n\u001b[1;32m      3\u001b[0m     \u001b[38;5;28mprint\u001b[39m(\u001b[38;5;124mf\u001b[39m\u001b[38;5;124m\"\u001b[39m\u001b[38;5;124mConvolution \u001b[39m\u001b[38;5;132;01m{\u001b[39;00mc\u001b[38;5;250m \u001b[39m\u001b[38;5;241m+\u001b[39m\u001b[38;5;250m \u001b[39m\u001b[38;5;241m1\u001b[39m\u001b[38;5;132;01m}\u001b[39;00m\u001b[38;5;124m: \u001b[39m\u001b[38;5;124m\"\u001b[39m, x)\n",
      "Cell \u001b[0;32mIn[26], line 6\u001b[0m, in \u001b[0;36mgraph_convolution\u001b[0;34m(A, x)\u001b[0m\n\u001b[1;32m      4\u001b[0m \u001b[38;5;28;01mfor\u001b[39;00m i \u001b[38;5;129;01min\u001b[39;00m \u001b[38;5;28mrange\u001b[39m(node_num):\n\u001b[1;32m      5\u001b[0m     \u001b[38;5;28;01mfor\u001b[39;00m j \u001b[38;5;129;01min\u001b[39;00m \u001b[38;5;28mrange\u001b[39m(node_num):\n\u001b[0;32m----> 6\u001b[0m         conv[j] \u001b[38;5;241m+\u001b[39m\u001b[38;5;241m=\u001b[39m A[i, j] \u001b[38;5;241m*\u001b[39m \u001b[43mx\u001b[49m\u001b[43m[\u001b[49m\u001b[43mi\u001b[49m\u001b[43m]\u001b[49m\n\u001b[1;32m      7\u001b[0m \u001b[38;5;28;01mreturn\u001b[39;00m conv\n",
      "\u001b[0;31mIndexError\u001b[0m: index 1 is out of bounds for dimension 0 with size 1"
     ]
    }
   ],
   "source": [
    "for c in range(5):\n",
    "    x = graph_convolution(A, x)\n",
    "    print(f\"Convolution {c + 1}: \", x)"
   ]
  },
  {
   "cell_type": "markdown",
   "metadata": {},
   "source": [
    "## Predicting Molecular Properties with Graph Convolutions\n"
   ]
  },
  {
   "cell_type": "markdown",
   "metadata": {},
   "source": [
    "### Implementing a Graph Convolution Layer\n",
    "\n",
    "Define a class to implement a graph convolution ...\n"
   ]
  },
  {
   "cell_type": "code",
   "execution_count": null,
   "metadata": {},
   "outputs": [],
   "source": [
    "import torch.nn as nn\n",
    "\n",
    "class GraphConvolution(nn.Module):\n",
    "    \"\"\"Graph convolution.\"\"\"\n",
    "    \n",
    "    def forward(self, A, x):\n",
    "        \"\"\"Calculate forward pass.\"\"\"\n",
    "        return A @ x"
   ]
  },
  {
   "cell_type": "markdown",
   "metadata": {},
   "source": [
    "... and a class to implement the class convolution layer.\n"
   ]
  },
  {
   "cell_type": "code",
   "execution_count": null,
   "metadata": {},
   "outputs": [],
   "source": [
    "import deeplay as dl\n",
    "import torch\n",
    "\n",
    "class GCL(dl.DeeplayModule):\n",
    "    \"\"\"Graph convolution layer.\"\"\"\n",
    "    \n",
    "    def __init__(self, in_features, out_features):\n",
    "        \"\"\"Initialize graph convolution layer.\"\"\"\n",
    "        super().__init__()\n",
    "        \n",
    "        self.in_features = in_features\n",
    "        self.out_features = out_features\n",
    "        \n",
    "        self.Transform = dl.Layer(nn.Linear, in_features, out_features)\n",
    "        self.Propagate = dl.Layer(GraphConvolution)\n",
    "        self.Update = dl.Layer(nn.ReLU)\n",
    "\n",
    "    def diagonalize(self, A):\n",
    "        \"\"\"Add diagonal to adjacency matrix.\"\"\"\n",
    "        return A + torch.eye(A.size(0)).to(A.device)\n",
    "    \n",
    "    def normalize(seft, A):\n",
    "        \"\"\"Normalize ajacency matrix.\"\"\"\n",
    "        deg = torch.sum(A, dim=1)\n",
    "        deg = deg.pow(-0.5)\n",
    "        deg[deg == float(\"inf\")] = 0\n",
    "        D = torch.diag(deg)\n",
    "        return D @ A @ D\n",
    "\n",
    "    def forward(self, A, x):\n",
    "        \"\"\"Calculate forward pass.\"\"\"\n",
    "        A = self.diagonalize(A)\n",
    "        A = self.normalize(A)\n",
    "        x = self.Transform(x)\n",
    "        x = self.Propagate(A, x)\n",
    "        x = self.Update(x)\n",
    "        return x"
   ]
  },
  {
   "cell_type": "markdown",
   "metadata": {},
   "source": [
    "### Using the ZINC Dataset\n",
    "\n",
    "Download the ZINC dataset ...\n"
   ]
  },
  {
   "cell_type": "code",
   "execution_count": null,
   "metadata": {},
   "outputs": [
    {
     "name": "stderr",
     "output_type": "stream",
     "text": [
      "Downloading https://www.dropbox.com/s/feo9qle74kg48gy/molecules.zip?dl=1\n",
      "Extracting ZINC_dataset/molecules.zip\n",
      "Downloading https://raw.githubusercontent.com/graphdeeplearning/benchmarking-gnns/master/data/molecules/train.index\n",
      "Downloading https://raw.githubusercontent.com/graphdeeplearning/benchmarking-gnns/master/data/molecules/val.index\n",
      "Downloading https://raw.githubusercontent.com/graphdeeplearning/benchmarking-gnns/master/data/molecules/test.index\n",
      "Processing...\n",
      "Processing train dataset: 100%|██████████| 10000/10000 [00:00<00:00, 15961.20it/s]\n",
      "Processing val dataset: 100%|██████████| 1000/1000 [00:00<00:00, 4699.27it/s]\n",
      "Processing test dataset: 100%|██████████| 1000/1000 [00:00<00:00, 17993.97it/s]\n",
      "Done!\n"
     ]
    }
   ],
   "source": [
    "from torch_geometric.datasets import ZINC\n",
    "\n",
    "train_dataset = ZINC(root=\"ZINC_dataset/\", subset=True, split=\"train\")\n",
    "val_dataset = ZINC(root=\"ZINC_dataset/\", subset=True, split=\"val\")\n",
    "test_dataset = ZINC(root=\"ZINC_dataset/\", subset=True, split=\"test\")"
   ]
  },
  {
   "cell_type": "markdown",
   "metadata": {},
   "source": [
    "... implement a function to plot the adjacency matrix of a molecule ...\n"
   ]
  },
  {
   "cell_type": "code",
   "execution_count": null,
   "metadata": {},
   "outputs": [],
   "source": [
    "import matplotlib.pyplot as plt\n",
    "from matplotlib import colormaps\n",
    "from torch_geometric.utils import to_dense_adj\n",
    "\n",
    "def plot_molecule(molecule):\n",
    "    \"\"\"Plot adjacency matrix of a molecule.\"\"\"\n",
    "    x = molecule[\"x\"].numpy().squeeze()\n",
    "    A = to_dense_adj(molecule[\"edge_index\"]).numpy().squeeze(0)\n",
    "    y = molecule[\"y\"].item()\n",
    "    \n",
    "    fig, ax = plt.subplots()\n",
    "    ax.matshow(A, cmap=colormaps[\"gray\"].reversed())\n",
    "\n",
    "    indices = np.arange(len(x))\n",
    "    ax.set_xticks(indices, x, fontsize=12)\n",
    "    ax.xaxis.set_ticks_position('bottom')\n",
    "    ax.set_xlabel('Atom type', fontsize=16)\n",
    "\n",
    "    ax.set_yticks(indices, x, fontsize=12)\n",
    "    ax.set_ylabel('Atom type', fontsize=16)\n",
    "    \n",
    "    ax.set_title(f\"LogP={np.round(y, 2)}\", fontsize=24)\n",
    "    plt.show()"
   ]
  },
  {
   "cell_type": "markdown",
   "metadata": {},
   "source": [
    "... and use to visualize the structures of some molecules.\n"
   ]
  },
  {
   "cell_type": "code",
   "execution_count": null,
   "metadata": {},
   "outputs": [
    {
     "data": {
      "image/png": "[encoded data removed]",
      "text/plain": [
       "<Figure size 640x480 with 1 Axes>"
      ]
     },
     "metadata": {},
     "output_type": "display_data"
    },
    {
     "data": {
      "image/png": "[encoded data removed]",
      "text/plain": [
       "<Figure size 640x480 with 1 Axes>"
      ]
     },
     "metadata": {},
     "output_type": "display_data"
    },
    {
     "data": {
      "image/png": "[encoded data removed]",
      "text/plain": [
       "<Figure size 640x480 with 1 Axes>"
      ]
     },
     "metadata": {},
     "output_type": "display_data"
    }
   ],
   "source": [
    "for i in [2, 1235, 9887]:\n",
    "    plot_molecule(molecule=train_dataset[i])"
   ]
  },
  {
   "cell_type": "markdown",
   "metadata": {},
   "source": [
    "### Implementing a Graph Convolutional Network\n",
    "\n",
    "Create a class to implement a graph convolutional network ...\n"
   ]
  },
  {
   "cell_type": "code",
   "execution_count": null,
   "metadata": {},
   "outputs": [],
   "source": [
    "class GCN(dl.DeeplayModule):\n",
    "    \"\"\"Graph convolutional network.\"\"\"\n",
    "\n",
    "    def __init__(self, num_node_embedding, embedding_dim, hidden_features, \n",
    "                 out_features):\n",
    "        \"\"\"Initialize graph convolutional network.\"\"\"\n",
    "        super().__init__()\n",
    "        \n",
    "        self.num_node_embedding = num_node_embedding\n",
    "        self.hidden_features = hidden_features\n",
    "        self.out_features = out_features\n",
    "        \n",
    "        self.node_embedding = dl.Layer(nn.Embedding, num_node_embedding,\n",
    "                                       embedding_dim)\n",
    "        \n",
    "        self.blocks = dl.LayerList()\n",
    "        for f_in, f_out in zip([embedding_dim, *hidden_features[:-1]],\n",
    "                               [*hidden_features, out_features]):\n",
    "            self.blocks.append(GCL(f_in, f_out))\n",
    "        \n",
    "        self.dense_top = dl.Sequential(\n",
    "\t\t\tdl.Layer(nn.Linear, hidden_features[-1], hidden_features[-1] // 4),\n",
    "\t\t\tdl.Layer(nn.ReLU),\n",
    "\t\t\tdl.Layer(nn.Linear, hidden_features[-1] // 4, out_features),\n",
    "\t\t)\n",
    "\n",
    "    def forward(self, G):\n",
    "        \"\"\"Calculate forward pass.\"\"\"\n",
    "        G[\"x\"] = self.node_embedding(G[\"x\"])\n",
    "        for block in self.blocks:\n",
    "            G[\"x\"] = block(G[\"A\"], G[\"x\"])\n",
    "        \n",
    "        batch_size = torch.max(G[\"batch\"]) + 1\n",
    "        h = torch.zeros(batch_size, G[\"x\"].shape[1], device=G[\"x\"].device)\n",
    "        h = h.scatter_add(0, G[\"batch\"][:, None].expand_as(G[\"x\"]), G[\"x\"])\n",
    "        h = h / torch.bincount(G[\"batch\"])[:, None]\n",
    "         \n",
    "        return self.dense_top(h).squeeze()"
   ]
  },
  {
   "cell_type": "markdown",
   "metadata": {},
   "source": [
    "... instantiate it ...\n"
   ]
  },
  {
   "cell_type": "code",
   "execution_count": null,
   "metadata": {},
   "outputs": [
    {
     "name": "stdout",
     "output_type": "stream",
     "text": [
      "GCN(\n",
      "  (node_embedding): Embedding(28, 64)\n",
      "  (blocks): LayerList(\n",
      "    (0-3): 4 x GCL(\n",
      "      (Transform): Linear(in_features=64, out_features=64, bias=True)\n",
      "      (Propagate): GraphConvolution()\n",
      "      (Update): ReLU()\n",
      "    )\n",
      "  )\n",
      "  (dense_top): Sequential(\n",
      "    (0): Linear(in_features=64, out_features=16, bias=True)\n",
      "    (1): ReLU()\n",
      "    (2): Linear(in_features=16, out_features=1, bias=True)\n",
      "  )\n",
      ")\n"
     ]
    }
   ],
   "source": [
    "gcn_model = GCN(\n",
    "    num_node_embedding=28,\n",
    "    embedding_dim=64,\n",
    "    hidden_features=[64, 64, 64, 64],\n",
    "    out_features=1,\n",
    ").create()\n",
    "\n",
    "print(gcn_model)"
   ]
  },
  {
   "cell_type": "markdown",
   "metadata": {},
   "source": [
    "... define the data loaders ...\n"
   ]
  },
  {
   "cell_type": "code",
   "execution_count": null,
   "metadata": {},
   "outputs": [],
   "source": [
    "from torch_geometric.loader import DataLoader\n",
    "\n",
    "train_loader = DataLoader(dataset=train_dataset, batch_size=32, shuffle=True)\n",
    "val_loader = DataLoader(dataset=val_dataset, batch_size=16, shuffle=False)\n",
    "test_loader = DataLoader(dataset=test_dataset, batch_size=32, shuffle=False)"
   ]
  },
  {
   "cell_type": "markdown",
   "metadata": {},
   "source": [
    "... implement a class to compile, train, and evaluate the graph convolutional network ...\n"
   ]
  },
  {
   "cell_type": "code",
   "execution_count": null,
   "metadata": {},
   "outputs": [],
   "source": [
    "class MolecularRegressor(dl.Regressor):\n",
    "    \"\"\"Molecular regressor.\"\"\"\n",
    "\n",
    "    def __init__(self, model, **kwargs):\n",
    "        \"\"\"Initialize molecular regressor.\"\"\"\n",
    "        super().__init__(model, **kwargs)\n",
    "    \n",
    "    def batch_preprocess(self, batch):\n",
    "        \"\"\"Preprocess batch.\"\"\"\n",
    "        batch[\"x\"] = batch[\"x\"].squeeze()\n",
    "        batch[\"A\"] = to_dense_adj(batch[\"edge_index\"]).squeeze(0)\n",
    "        return batch.to(self.device)\n",
    "    \n",
    "    def forward(self, batch):\n",
    "        \"\"\"Calculate forward pass.\"\"\"\n",
    "        return self.model(self.batch_preprocess(batch))"
   ]
  },
  {
   "cell_type": "markdown",
   "metadata": {},
   "source": [
    "... and train the graph convolutional network.\n"
   ]
  },
  {
   "cell_type": "code",
   "execution_count": null,
   "metadata": {},
   "outputs": [
    {
     "name": "stderr",
     "output_type": "stream",
     "text": [
      "Missing logger folder: /Users/felixwaldschock/Documents/gits/TIF360_Advanced_machine_learning_with_neural_networks_V2/03_Workshops/08_Transformer_Graph_Intro/lightning_logs\n",
      "\n",
      "  | Name          | Type             | Params\n",
      "---------------------------------------------------\n",
      "0 | loss          | L1Loss           | 0     \n",
      "1 | train_metrics | MetricCollection | 0     \n",
      "2 | val_metrics   | MetricCollection | 0     \n",
      "3 | test_metrics  | MetricCollection | 0     \n",
      "4 | model         | GCN              | 19.5 K\n",
      "5 | optimizer     | Adam             | 0     \n",
      "---------------------------------------------------\n",
      "19.5 K    Trainable params\n",
      "0         Non-trainable params\n",
      "19.5 K    Total params\n",
      "0.078     Total estimated model params size (MB)\n"
     ]
    },
    {
     "data": {
      "application/vnd.jupyter.widget-view+json": {
       "model_id": "4e26c7961f80444e84842e4f53d69a9d",
       "version_major": 2,
       "version_minor": 0
      },
      "text/plain": [
       "Sanity Checking: |          | 0/? [00:00<?, ?it/s]"
      ]
     },
     "metadata": {},
     "output_type": "display_data"
    },
    {
     "name": "stderr",
     "output_type": "stream",
     "text": [
      "/opt/homebrew/lib/python3.11/site-packages/lightning/pytorch/trainer/connectors/data_connector.py:441: The 'val_dataloader' does not have many workers which may be a bottleneck. Consider increasing the value of the `num_workers` argument` to `num_workers=7` in the `DataLoader` to improve performance.\n",
      "/opt/homebrew/lib/python3.11/site-packages/lightning/pytorch/trainer/connectors/data_connector.py:441: The 'train_dataloader' does not have many workers which may be a bottleneck. Consider increasing the value of the `num_workers` argument` to `num_workers=7` in the `DataLoader` to improve performance.\n"
     ]
    },
    {
     "data": {
      "application/vnd.jupyter.widget-view+json": {
       "model_id": "3e2e5f38ef1e48018796ef07acd88ed1",
       "version_major": 2,
       "version_minor": 0
      },
      "text/plain": [
       "Training: |          | 0/? [00:00<?, ?it/s]"
      ]
     },
     "metadata": {},
     "output_type": "display_data"
    },
    {
     "data": {
      "application/vnd.jupyter.widget-view+json": {
       "model_id": "c48ca8291c804d90a462a609813077b0",
       "version_major": 2,
       "version_minor": 0
      },
      "text/plain": [
       "Validation: |          | 0/? [00:00<?, ?it/s]"
      ]
     },
     "metadata": {},
     "output_type": "display_data"
    },
    {
     "data": {
      "application/vnd.jupyter.widget-view+json": {
       "model_id": "3d9871881f074b17b1f7e486817fe3f2",
       "version_major": 2,
       "version_minor": 0
      },
      "text/plain": [
       "Validation: |          | 0/? [00:00<?, ?it/s]"
      ]
     },
     "metadata": {},
     "output_type": "display_data"
    },
    {
     "data": {
      "application/vnd.jupyter.widget-view+json": {
       "model_id": "08702997a0b54704b98dc530b8ee4535",
       "version_major": 2,
       "version_minor": 0
      },
      "text/plain": [
       "Validation: |          | 0/? [00:00<?, ?it/s]"
      ]
     },
     "metadata": {},
     "output_type": "display_data"
    },
    {
     "data": {
      "application/vnd.jupyter.widget-view+json": {
       "model_id": "677d8e7633fd40759cfde8469128fed5",
       "version_major": 2,
       "version_minor": 0
      },
      "text/plain": [
       "Validation: |          | 0/? [00:00<?, ?it/s]"
      ]
     },
     "metadata": {},
     "output_type": "display_data"
    },
    {
     "data": {
      "application/vnd.jupyter.widget-view+json": {
       "model_id": "52d3f1426a83426dbbd7e506e7b6cf01",
       "version_major": 2,
       "version_minor": 0
      },
      "text/plain": [
       "Validation: |          | 0/? [00:00<?, ?it/s]"
      ]
     },
     "metadata": {},
     "output_type": "display_data"
    },
    {
     "data": {
      "application/vnd.jupyter.widget-view+json": {
       "model_id": "60e51a0ad6334bd4be410240bc24a0f8",
       "version_major": 2,
       "version_minor": 0
      },
      "text/plain": [
       "Validation: |          | 0/? [00:00<?, ?it/s]"
      ]
     },
     "metadata": {},
     "output_type": "display_data"
    },
    {
     "data": {
      "application/vnd.jupyter.widget-view+json": {
       "model_id": "19b6b2725e79433ea37898af7a5efb7a",
       "version_major": 2,
       "version_minor": 0
      },
      "text/plain": [
       "Validation: |          | 0/? [00:00<?, ?it/s]"
      ]
     },
     "metadata": {},
     "output_type": "display_data"
    },
    {
     "data": {
      "application/vnd.jupyter.widget-view+json": {
       "model_id": "28d46187827a40c8941f1382a0e2960e",
       "version_major": 2,
       "version_minor": 0
      },
      "text/plain": [
       "Validation: |          | 0/? [00:00<?, ?it/s]"
      ]
     },
     "metadata": {},
     "output_type": "display_data"
    },
    {
     "data": {
      "application/vnd.jupyter.widget-view+json": {
       "model_id": "adccaa9223e44d6a82e394506eaa04f5",
       "version_major": 2,
       "version_minor": 0
      },
      "text/plain": [
       "Validation: |          | 0/? [00:00<?, ?it/s]"
      ]
     },
     "metadata": {},
     "output_type": "display_data"
    },
    {
     "data": {
      "application/vnd.jupyter.widget-view+json": {
       "model_id": "1d2d2a82149941f08d6976658ac72401",
       "version_major": 2,
       "version_minor": 0
      },
      "text/plain": [
       "Validation: |          | 0/? [00:00<?, ?it/s]"
      ]
     },
     "metadata": {},
     "output_type": "display_data"
    },
    {
     "data": {
      "application/vnd.jupyter.widget-view+json": {
       "model_id": "972578a56db44ef3b30a6382473675f5",
       "version_major": 2,
       "version_minor": 0
      },
      "text/plain": [
       "Validation: |          | 0/? [00:00<?, ?it/s]"
      ]
     },
     "metadata": {},
     "output_type": "display_data"
    },
    {
     "data": {
      "application/vnd.jupyter.widget-view+json": {
       "model_id": "3cfbe9376ec4439fbe1a79c6f76a491d",
       "version_major": 2,
       "version_minor": 0
      },
      "text/plain": [
       "Validation: |          | 0/? [00:00<?, ?it/s]"
      ]
     },
     "metadata": {},
     "output_type": "display_data"
    },
    {
     "data": {
      "application/vnd.jupyter.widget-view+json": {
       "model_id": "128e7b97a77e48d5b72512c7581d0139",
       "version_major": 2,
       "version_minor": 0
      },
      "text/plain": [
       "Validation: |          | 0/? [00:00<?, ?it/s]"
      ]
     },
     "metadata": {},
     "output_type": "display_data"
    },
    {
     "data": {
      "application/vnd.jupyter.widget-view+json": {
       "model_id": "0219c57c34624d838b29e5d73c5d0d17",
       "version_major": 2,
       "version_minor": 0
      },
      "text/plain": [
       "Validation: |          | 0/? [00:00<?, ?it/s]"
      ]
     },
     "metadata": {},
     "output_type": "display_data"
    },
    {
     "data": {
      "application/vnd.jupyter.widget-view+json": {
       "model_id": "3c4e7ba7b7014687a046acf98773adb4",
       "version_major": 2,
       "version_minor": 0
      },
      "text/plain": [
       "Validation: |          | 0/? [00:00<?, ?it/s]"
      ]
     },
     "metadata": {},
     "output_type": "display_data"
    },
    {
     "data": {
      "application/vnd.jupyter.widget-view+json": {
       "model_id": "35a2883b1c4741a7b166efa7f92be733",
       "version_major": 2,
       "version_minor": 0
      },
      "text/plain": [
       "Validation: |          | 0/? [00:00<?, ?it/s]"
      ]
     },
     "metadata": {},
     "output_type": "display_data"
    },
    {
     "data": {
      "application/vnd.jupyter.widget-view+json": {
       "model_id": "5f9bd40af3a748d9a24b126ad227b3b8",
       "version_major": 2,
       "version_minor": 0
      },
      "text/plain": [
       "Validation: |          | 0/? [00:00<?, ?it/s]"
      ]
     },
     "metadata": {},
     "output_type": "display_data"
    },
    {
     "data": {
      "application/vnd.jupyter.widget-view+json": {
       "model_id": "5aceaf5359534831a7b1fcbe9afe4a0c",
       "version_major": 2,
       "version_minor": 0
      },
      "text/plain": [
       "Validation: |          | 0/? [00:00<?, ?it/s]"
      ]
     },
     "metadata": {},
     "output_type": "display_data"
    },
    {
     "data": {
      "application/vnd.jupyter.widget-view+json": {
       "model_id": "30dcb20c577441c2b6211361340a245d",
       "version_major": 2,
       "version_minor": 0
      },
      "text/plain": [
       "Validation: |          | 0/? [00:00<?, ?it/s]"
      ]
     },
     "metadata": {},
     "output_type": "display_data"
    },
    {
     "data": {
      "application/vnd.jupyter.widget-view+json": {
       "model_id": "21f0e1d64a0d4f039337a5feec2abd0c",
       "version_major": 2,
       "version_minor": 0
      },
      "text/plain": [
       "Validation: |          | 0/? [00:00<?, ?it/s]"
      ]
     },
     "metadata": {},
     "output_type": "display_data"
    },
    {
     "data": {
      "application/vnd.jupyter.widget-view+json": {
       "model_id": "b988869be1cc4fc1bc3dfbcdf43db968",
       "version_major": 2,
       "version_minor": 0
      },
      "text/plain": [
       "Validation: |          | 0/? [00:00<?, ?it/s]"
      ]
     },
     "metadata": {},
     "output_type": "display_data"
    },
    {
     "data": {
      "application/vnd.jupyter.widget-view+json": {
       "model_id": "e8f4712e8a594af88d0b1dff6d30faae",
       "version_major": 2,
       "version_minor": 0
      },
      "text/plain": [
       "Validation: |          | 0/? [00:00<?, ?it/s]"
      ]
     },
     "metadata": {},
     "output_type": "display_data"
    },
    {
     "data": {
      "application/vnd.jupyter.widget-view+json": {
       "model_id": "ec3e0440e8324ed78dc0d3cd6751af4c",
       "version_major": 2,
       "version_minor": 0
      },
      "text/plain": [
       "Validation: |          | 0/? [00:00<?, ?it/s]"
      ]
     },
     "metadata": {},
     "output_type": "display_data"
    },
    {
     "data": {
      "application/vnd.jupyter.widget-view+json": {
       "model_id": "b84410d394c244d186619fdc74c3a289",
       "version_major": 2,
       "version_minor": 0
      },
      "text/plain": [
       "Validation: |          | 0/? [00:00<?, ?it/s]"
      ]
     },
     "metadata": {},
     "output_type": "display_data"
    },
    {
     "data": {
      "application/vnd.jupyter.widget-view+json": {
       "model_id": "139fa751a2374627afea322e7eec66f5",
       "version_major": 2,
       "version_minor": 0
      },
      "text/plain": [
       "Validation: |          | 0/? [00:00<?, ?it/s]"
      ]
     },
     "metadata": {},
     "output_type": "display_data"
    },
    {
     "data": {
      "application/vnd.jupyter.widget-view+json": {
       "model_id": "230541812825477992186e75dee109e6",
       "version_major": 2,
       "version_minor": 0
      },
      "text/plain": [
       "Validation: |          | 0/? [00:00<?, ?it/s]"
      ]
     },
     "metadata": {},
     "output_type": "display_data"
    },
    {
     "name": "stderr",
     "output_type": "stream",
     "text": [
      "/opt/homebrew/lib/python3.11/site-packages/lightning/pytorch/trainer/call.py:54: Detected KeyboardInterrupt, attempting graceful shutdown...\n"
     ]
    }
   ],
   "source": [
    "from lightning.pytorch.callbacks import ModelCheckpoint\n",
    "\n",
    "gcn = MolecularRegressor(\n",
    "    gcn_model, loss=nn.L1Loss(), optimizer=dl.Adam(lr=1e-3)\n",
    ").create()\n",
    "\n",
    "checkpoint_callback = ModelCheckpoint(\n",
    "    monitor=\"val_loss\",\n",
    "    dirpath=\"models\",\n",
    "    filename=\"ZINC-GCN-model{epoch:02d}-val_loss{val_loss:.2f}\",\n",
    "    auto_insert_metric_name=False,\n",
    ")\n",
    "trainer = dl.Trainer(max_epochs=400, callbacks=[checkpoint_callback])\n",
    "trainer.fit(gcn, train_loader, val_loader)"
   ]
  },
  {
   "cell_type": "markdown",
   "metadata": {},
   "source": [
    "### Evaluating the Trained Graph Convolutional Network\n",
    "\n",
    "Evaluate the performance of the trained graph convolutional network ...\n"
   ]
  },
  {
   "cell_type": "code",
   "execution_count": null,
   "metadata": {},
   "outputs": [
    {
     "data": {
      "application/vnd.jupyter.widget-view+json": {
       "model_id": "3b3c5c98c3174b5aab0c43355c7dbfd8",
       "version_major": 2,
       "version_minor": 0
      },
      "text/plain": [
       "Output()"
      ]
     },
     "metadata": {},
     "output_type": "display_data"
    },
    {
     "name": "stderr",
     "output_type": "stream",
     "text": [
      "/Users/giovannivolpe/Documents/GitHub/DeepLearningCrashCourse/py_env_dlcc/lib/python3.12/site-packages/lightning/pytorch/trainer/connectors/data_connector.py:441: The 'test_dataloader' does not have many workers which may be a bottleneck. Consider increasing the value of the `num_workers` argument` to `num_workers=10` in the `DataLoader` to improve performance.\n"
     ]
    },
    {
     "data": {
      "text/html": [
       "<pre style=\"white-space:pre;overflow-x:auto;line-height:normal;font-family:Menlo,'DejaVu Sans Mono',consolas,'Courier New',monospace\">┏━━━━━━━━━━━━━━━━━━━━━━━━━━━┳━━━━━━━━━━━━━━━━━━━━━━━━━━━┓\n",
       "┃<span style=\"font-weight: bold\">        Test metric        </span>┃<span style=\"font-weight: bold\">       DataLoader 0        </span>┃\n",
       "┡━━━━━━━━━━━━━━━━━━━━━━━━━━━╇━━━━━━━━━━━━━━━━━━━━━━━━━━━┩\n",
       "│<span style=\"color: #008080; text-decoration-color: #008080\">      test_loss_epoch      </span>│<span style=\"color: #800080; text-decoration-color: #800080\">    0.47084325551986694    </span>│\n",
       "└───────────────────────────┴───────────────────────────┘\n",
       "</pre>\n"
      ],
      "text/plain": [
       "┏━━━━━━━━━━━━━━━━━━━━━━━━━━━┳━━━━━━━━━━━━━━━━━━━━━━━━━━━┓\n",
       "┃\u001b[1m \u001b[0m\u001b[1m       Test metric       \u001b[0m\u001b[1m \u001b[0m┃\u001b[1m \u001b[0m\u001b[1m      DataLoader 0       \u001b[0m\u001b[1m \u001b[0m┃\n",
       "┡━━━━━━━━━━━━━━━━━━━━━━━━━━━╇━━━━━━━━━━━━━━━━━━━━━━━━━━━┩\n",
       "│\u001b[36m \u001b[0m\u001b[36m     test_loss_epoch     \u001b[0m\u001b[36m \u001b[0m│\u001b[35m \u001b[0m\u001b[35m   0.47084325551986694   \u001b[0m\u001b[35m \u001b[0m│\n",
       "└───────────────────────────┴───────────────────────────┘\n"
      ]
     },
     "metadata": {},
     "output_type": "display_data"
    },
    {
     "data": {
      "text/html": [
       "<pre style=\"white-space:pre;overflow-x:auto;line-height:normal;font-family:Menlo,'DejaVu Sans Mono',consolas,'Courier New',monospace\"></pre>\n"
      ],
      "text/plain": []
     },
     "metadata": {},
     "output_type": "display_data"
    },
    {
     "data": {
      "text/html": [
       "<pre style=\"white-space:pre;overflow-x:auto;line-height:normal;font-family:Menlo,'DejaVu Sans Mono',consolas,'Courier New',monospace\">\n",
       "</pre>\n"
      ],
      "text/plain": [
       "\n"
      ]
     },
     "metadata": {},
     "output_type": "display_data"
    }
   ],
   "source": [
    "import glob\n",
    "import os\n",
    "\n",
    "best_model_path = glob.glob(os.path.join(\"models\", \"ZINC-GCN-model*.ckpt\"))\n",
    "best_model_path = sorted(best_model_path, key=os.path.getmtime)[-1]\n",
    "gcn_best = MolecularRegressor.load_from_checkpoint(\n",
    "    best_model_path, \n",
    "    model=gcn_model, \n",
    "    loss=nn.L1Loss(),\n",
    ")\n",
    "test_results = trainer.test(gcn_best, test_loader)"
   ]
  },
  {
   "cell_type": "markdown",
   "metadata": {},
   "source": [
    "... obtain the predicted and actual logP ...\n"
   ]
  },
  {
   "cell_type": "code",
   "execution_count": null,
   "metadata": {},
   "outputs": [],
   "source": [
    "gts, preds = [], []\n",
    "for batch in test_loader:\n",
    "    y = batch.pop(\"y\")\n",
    "    gts.append(y)\n",
    "    \n",
    "    pred = gcn_best(batch)\n",
    "    preds.append(pred)\n",
    "    \n",
    "gts = torch.cat(gts).cpu().numpy()\n",
    "preds = torch.cat(preds).detach().cpu().numpy()"
   ]
  },
  {
   "cell_type": "markdown",
   "metadata": {},
   "source": [
    "... and plot the predicted logP versus their ground truth values.\n"
   ]
  },
  {
   "cell_type": "code",
   "execution_count": null,
   "metadata": {},
   "outputs": [
    {
     "data": {
      "image/png": "[encoded data removed]",
      "text/plain": [
       "<Figure size 640x480 with 1 Axes>"
      ]
     },
     "metadata": {},
     "output_type": "display_data"
    }
   ],
   "source": [
    "heatmap, xedges, yedges = np.histogram2d(preds, gts, bins=50)\n",
    "extent = [xedges[0], xedges[-1], yedges[0], yedges[-1]]\n",
    "\n",
    "plt.clf()\n",
    "plt.plot([min(gts), max(gts)], [min(gts), max(gts)], \"r--\")\n",
    "plt.imshow(heatmap.T, extent=extent, origin=\"lower\")\n",
    "plt.xlabel(\"Predicted LogP\")\n",
    "plt.ylabel(\"True LogP\")\n",
    "plt.show()"
   ]
  },
  {
   "cell_type": "markdown",
   "metadata": {},
   "source": [
    "## Predicting Molecular Properties with Message Passing\n"
   ]
  },
  {
   "cell_type": "markdown",
   "metadata": {},
   "source": [
    "### Implementing a Message Passing Layer\n",
    "\n",
    "Implement a class to implement a layer to perform the transform step ...\n"
   ]
  },
  {
   "cell_type": "code",
   "execution_count": null,
   "metadata": {},
   "outputs": [],
   "source": [
    "class TransformLayer(nn.Module):\n",
    "    \"\"\"Transform layer.\"\"\"\n",
    "\n",
    "    def __init__(self, hidden_features):\n",
    "        \"\"\"Initialize the transform layer.\"\"\"\n",
    "        super().__init__()\n",
    "\n",
    "        self.hideen_features = hidden_features\n",
    "        self.layer = nn.LazyLinear(hidden_features)\n",
    "        self.activation = nn.ReLU()\n",
    "\n",
    "    def forward(self, G):\n",
    "        \"\"\"Calculate forward pass.\"\"\"\n",
    "        G[\"message\"] = torch.cat(\n",
    "            [\n",
    "                G[\"x\"][G[\"edge_index\"][0]],\n",
    "                G[\"x\"][G[\"edge_index\"][1]],\n",
    "                G[\"edge_attr\"],\n",
    "            ],\n",
    "            dim=-1,\n",
    "        )\n",
    "        G[\"message\"] = self.layer(G[\"message\"])\n",
    "        G[\"message\"] = self.activation(G[\"message\"])\n",
    "        return G"
   ]
  },
  {
   "cell_type": "markdown",
   "metadata": {},
   "source": [
    "... a class to implement a layer to perform the propagate step ...\n"
   ]
  },
  {
   "cell_type": "code",
   "execution_count": null,
   "metadata": {},
   "outputs": [],
   "source": [
    "class PropagateLayer(nn.Module):\n",
    "    \"\"\"PropagateLayer.\"\"\"\n",
    "\n",
    "    def __init__(self, hidden_features):\n",
    "        \"\"\"Initialize propagate layer.\"\"\"\n",
    "        super().__init__()\n",
    "        self.hidden_features = hidden_features\n",
    "\n",
    "    def forward(self, G):\n",
    "        \"\"\"Calculate forward pass.\"\"\"\n",
    "        G[\"aggregate\"] = torch.zeros(G[\"x\"].size(0), self.hidden_features)\n",
    "        G[\"aggregate\"] = G[\"aggregate\"].type_as(G[\"x\"])\n",
    "        G[\"aggregate\"] = G[\"aggregate\"].to(G[\"x\"].device)\n",
    "        \n",
    "        indices = G[\"edge_index\"][1].unsqueeze(1).expand_as(G[\"message\"])\n",
    "        G[\"aggregate\"] = G[\"aggregate\"].scatter_add(0, indices, G[\"message\"])\n",
    "        \n",
    "        return G"
   ]
  },
  {
   "cell_type": "markdown",
   "metadata": {},
   "source": [
    "... a class to implement a layer to perform the update step ...\n"
   ]
  },
  {
   "cell_type": "code",
   "execution_count": null,
   "metadata": {},
   "outputs": [],
   "source": [
    "class UpdateLayer(nn.Module):\n",
    "    \"\"\"Update layer.\"\"\"\n",
    "\n",
    "    def __init__(self, hidden_features):\n",
    "        \"\"\"Initialize update layer.\"\"\"\n",
    "        super().__init__()\n",
    "        self.hidden_features = hidden_features\n",
    "        self.layer = nn.LazyLinear(hidden_features)\n",
    "        self.activation = nn.ReLU()\n",
    "\n",
    "    def forward(self, G):\n",
    "        \"\"\"Calculate forward pass.\"\"\"\n",
    "        G[\"x\"] = self.layer(\n",
    "            torch.cat(\n",
    "                [\n",
    "                    G[\"x\"],\n",
    "                    G[\"aggregate\"],\n",
    "                ],\n",
    "                dim=-1,\n",
    "            )\n",
    "        )\n",
    "        G[\"x\"] = self.activation(G[\"x\"])\n",
    "        \n",
    "        G[\"edge_attr\"] = G[\"message\"]\n",
    "\n",
    "        return G"
   ]
  },
  {
   "cell_type": "markdown",
   "metadata": {},
   "source": [
    "... and use them to define a message passing layer.\n"
   ]
  },
  {
   "cell_type": "code",
   "execution_count": null,
   "metadata": {},
   "outputs": [
    {
     "name": "stdout",
     "output_type": "stream",
     "text": [
      "Sequential(\n",
      "  (0): TransformLayer(\n",
      "    (layer): LazyLinear(in_features=0, out_features=64, bias=True)\n",
      "    (activation): ReLU()\n",
      "  )\n",
      "  (1): PropagateLayer()\n",
      "  (2): UpdateLayer(\n",
      "    (layer): LazyLinear(in_features=0, out_features=64, bias=True)\n",
      "    (activation): ReLU()\n",
      "  )\n",
      ")\n"
     ]
    }
   ],
   "source": [
    "mpl = dl.Sequential(\n",
    "    dl.Layer(TransformLayer, hidden_features=64),\n",
    "    dl.Layer(PropagateLayer, hidden_features=64),\n",
    "    dl.Layer(UpdateLayer, hidden_features=64),\n",
    ").create()\n",
    "\n",
    "print(mpl)"
   ]
  },
  {
   "cell_type": "markdown",
   "metadata": {},
   "source": [
    "### Implementing a Message Passing Network\n",
    "\n",
    "Create a class to implement a message passing network ...\n"
   ]
  },
  {
   "cell_type": "code",
   "execution_count": null,
   "metadata": {},
   "outputs": [],
   "source": [
    "class MPN(dl.DeeplayModule):\n",
    "    \"\"\"Message passing network.\"\"\"\n",
    "\n",
    "    def __init__(self, num_node_embedding, num_edge_embeddings, embedding_dim, \n",
    "                 hidden_features, out_features):\n",
    "        \"\"\"Initialize message passing network.\"\"\"\n",
    "        super().__init__()\n",
    "        \n",
    "        self.num_node_embedding = num_node_embedding\n",
    "        self.num_edge_embeddings = num_edge_embeddings\n",
    "        self.hidden_features = hidden_features\n",
    "        self.out_features = out_features\n",
    "        \n",
    "        self.node_embedding = dl.Layer(nn.Embedding, num_node_embedding,\n",
    "                                       embedding_dim)\n",
    "        self.edge_embedding = dl.Layer(nn.Embedding, num_edge_embeddings,\n",
    "                                       embedding_dim)\n",
    "        \n",
    "        self.blocks = dl.LayerList()\n",
    "        for f_out in hidden_features:\n",
    "            mpl = dl.Sequential(\n",
    "                dl.Layer(TransformLayer, f_out),\n",
    "                dl.Layer(PropagateLayer, f_out),\n",
    "                dl.Layer(UpdateLayer, f_out),\n",
    "            )\n",
    "            self.blocks.append(mpl)\n",
    "        \n",
    "        self.dense_top = dl.Sequential(\n",
    "\t\t\tdl.Layer(nn.Linear, hidden_features[-1], hidden_features[-1] // 4),\n",
    "\t\t\tdl.Layer(nn.ReLU),\n",
    "\t\t\tdl.Layer(nn.Linear, hidden_features[-1] // 4, out_features),\n",
    "\t\t)\n",
    "\n",
    "    def forward(self, G):\n",
    "        \"\"\"Calculate forward pass.\"\"\"\n",
    "        G[\"x\"] = self.node_embedding(G[\"x\"])\n",
    "        G[\"edge_attr\"] = self.edge_embedding(G[\"edge_attr\"])\n",
    "        for block in self.blocks:\n",
    "            G = block(G)\n",
    "        \n",
    "        batch_size = torch.max(G[\"batch\"]) + 1\n",
    "        h = torch.zeros(batch_size, G[\"x\"].shape[1], device=G[\"x\"].device)\n",
    "        h = h.scatter_add(0, G[\"batch\"][:, None].expand_as(G[\"x\"]), G[\"x\"])\n",
    "        h = h / torch.bincount(G[\"batch\"])[:, None]\n",
    "         \n",
    "        return self.dense_top(h).squeeze()"
   ]
  },
  {
   "cell_type": "markdown",
   "metadata": {},
   "source": [
    "... instantiate the message passing network ...\n"
   ]
  },
  {
   "cell_type": "code",
   "execution_count": null,
   "metadata": {},
   "outputs": [
    {
     "name": "stdout",
     "output_type": "stream",
     "text": [
      "MPN(\n",
      "  (node_embedding): Embedding(28, 64)\n",
      "  (edge_embedding): Embedding(4, 64)\n",
      "  (blocks): LayerList(\n",
      "    (0-3): 4 x Sequential(\n",
      "      (0): TransformLayer(\n",
      "        (layer): LazyLinear(in_features=0, out_features=64, bias=True)\n",
      "        (activation): ReLU()\n",
      "      )\n",
      "      (1): PropagateLayer()\n",
      "      (2): UpdateLayer(\n",
      "        (layer): LazyLinear(in_features=0, out_features=64, bias=True)\n",
      "        (activation): ReLU()\n",
      "      )\n",
      "    )\n",
      "  )\n",
      "  (dense_top): Sequential(\n",
      "    (0): Linear(in_features=64, out_features=16, bias=True)\n",
      "    (1): ReLU()\n",
      "    (2): Linear(in_features=16, out_features=1, bias=True)\n",
      "  )\n",
      ")\n"
     ]
    }
   ],
   "source": [
    "mpn_model = MPN(\n",
    "    num_node_embedding=28,\n",
    "    num_edge_embeddings=4,\n",
    "    embedding_dim=64,\n",
    "    hidden_features=[64, 64, 64, 64],\n",
    "    out_features=1,\n",
    ").create()\n",
    "\n",
    "print(mpn_model)"
   ]
  },
  {
   "cell_type": "markdown",
   "metadata": {},
   "source": [
    "... train the message passing network ...\n"
   ]
  },
  {
   "cell_type": "code",
   "execution_count": null,
   "metadata": {},
   "outputs": [
    {
     "name": "stderr",
     "output_type": "stream",
     "text": [
      "/opt/homebrew/lib/python3.11/site-packages/lightning/pytorch/callbacks/model_checkpoint.py:653: Checkpoint directory /Users/felixwaldschock/Documents/gits/TIF360_Advanced_machine_learning_with_neural_networks_V2/03_Workshops/08_Transformer_Graph_Intro/models exists and is not empty.\n",
      "/opt/homebrew/lib/python3.11/site-packages/lightning/pytorch/utilities/model_summary/model_summary.py:454: A layer with UninitializedParameter was found. Thus, the total number of parameters detected may be inaccurate.\n",
      "\n",
      "  | Name          | Type             | Params\n",
      "---------------------------------------------------\n",
      "0 | loss          | L1Loss           | 0     \n",
      "1 | train_metrics | MetricCollection | 0     \n",
      "2 | val_metrics   | MetricCollection | 0     \n",
      "3 | test_metrics  | MetricCollection | 0     \n",
      "4 | model         | MPN              | 3.1 K \n",
      "5 | optimizer     | Adam             | 0     \n",
      "---------------------------------------------------\n",
      "3.1 K     Trainable params\n",
      "0         Non-trainable params\n",
      "3.1 K     Total params\n",
      "0.012     Total estimated model params size (MB)\n"
     ]
    },
    {
     "data": {
      "application/vnd.jupyter.widget-view+json": {
       "model_id": "4aa47df8e56c4e2088e534ead2411461",
       "version_major": 2,
       "version_minor": 0
      },
      "text/plain": [
       "Sanity Checking: |          | 0/? [00:00<?, ?it/s]"
      ]
     },
     "metadata": {},
     "output_type": "display_data"
    },
    {
     "data": {
      "application/vnd.jupyter.widget-view+json": {
       "model_id": "ca9fbeaa17734a73bfcc78a865e6b58e",
       "version_major": 2,
       "version_minor": 0
      },
      "text/plain": [
       "Training: |          | 0/? [00:00<?, ?it/s]"
      ]
     },
     "metadata": {},
     "output_type": "display_data"
    }
   ],
   "source": [
    "mpn = MolecularRegressor(\n",
    "    mpn_model, loss=nn.L1Loss(), optimizer=dl.Adam(lr=1e-3)\n",
    ").create()\n",
    "\n",
    "checkpoint_callback = ModelCheckpoint(\n",
    "    monitor=\"val_loss\",\n",
    "    dirpath=\"models\",\n",
    "    filename=\"ZINC-GCN-model{epoch:02d}-val_loss{val_loss:.2f}\",\n",
    "    auto_insert_metric_name=False,\n",
    ")\n",
    "trainer = dl.Trainer(max_epochs=400, callbacks=[checkpoint_callback])\n",
    "trainer.fit(mpn, train_loader, val_loader)"
   ]
  },
  {
   "cell_type": "markdown",
   "metadata": {},
   "source": [
    "... evaluate the performance of the trained message passing network ...\n"
   ]
  },
  {
   "cell_type": "code",
   "execution_count": null,
   "metadata": {},
   "outputs": [
    {
     "data": {
      "application/vnd.jupyter.widget-view+json": {
       "model_id": "6171b8f1c5434c25b6813abbdd433f72",
       "version_major": 2,
       "version_minor": 0
      },
      "text/plain": [
       "Output()"
      ]
     },
     "metadata": {},
     "output_type": "display_data"
    },
    {
     "name": "stderr",
     "output_type": "stream",
     "text": [
      "/Users/giovannivolpe/Documents/GitHub/DeepLearningCrashCourse/py_env_dlcc/lib/python3.12/site-packages/lightning/pytorch/trainer/connectors/data_connector.py:441: The 'test_dataloader' does not have many workers which may be a bottleneck. Consider increasing the value of the `num_workers` argument` to `num_workers=10` in the `DataLoader` to improve performance.\n"
     ]
    },
    {
     "data": {
      "text/html": [
       "<pre style=\"white-space:pre;overflow-x:auto;line-height:normal;font-family:Menlo,'DejaVu Sans Mono',consolas,'Courier New',monospace\">┏━━━━━━━━━━━━━━━━━━━━━━━━━━━┳━━━━━━━━━━━━━━━━━━━━━━━━━━━┓\n",
       "┃<span style=\"font-weight: bold\">        Test metric        </span>┃<span style=\"font-weight: bold\">       DataLoader 0        </span>┃\n",
       "┡━━━━━━━━━━━━━━━━━━━━━━━━━━━╇━━━━━━━━━━━━━━━━━━━━━━━━━━━┩\n",
       "│<span style=\"color: #008080; text-decoration-color: #008080\">      test_loss_epoch      </span>│<span style=\"color: #800080; text-decoration-color: #800080\">    0.22786061465740204    </span>│\n",
       "└───────────────────────────┴───────────────────────────┘\n",
       "</pre>\n"
      ],
      "text/plain": [
       "┏━━━━━━━━━━━━━━━━━━━━━━━━━━━┳━━━━━━━━━━━━━━━━━━━━━━━━━━━┓\n",
       "┃\u001b[1m \u001b[0m\u001b[1m       Test metric       \u001b[0m\u001b[1m \u001b[0m┃\u001b[1m \u001b[0m\u001b[1m      DataLoader 0       \u001b[0m\u001b[1m \u001b[0m┃\n",
       "┡━━━━━━━━━━━━━━━━━━━━━━━━━━━╇━━━━━━━━━━━━━━━━━━━━━━━━━━━┩\n",
       "│\u001b[36m \u001b[0m\u001b[36m     test_loss_epoch     \u001b[0m\u001b[36m \u001b[0m│\u001b[35m \u001b[0m\u001b[35m   0.22786061465740204   \u001b[0m\u001b[35m \u001b[0m│\n",
       "└───────────────────────────┴───────────────────────────┘\n"
      ]
     },
     "metadata": {},
     "output_type": "display_data"
    },
    {
     "data": {
      "text/html": [
       "<pre style=\"white-space:pre;overflow-x:auto;line-height:normal;font-family:Menlo,'DejaVu Sans Mono',consolas,'Courier New',monospace\"></pre>\n"
      ],
      "text/plain": []
     },
     "metadata": {},
     "output_type": "display_data"
    },
    {
     "data": {
      "text/html": [
       "<pre style=\"white-space:pre;overflow-x:auto;line-height:normal;font-family:Menlo,'DejaVu Sans Mono',consolas,'Courier New',monospace\">\n",
       "</pre>\n"
      ],
      "text/plain": [
       "\n"
      ]
     },
     "metadata": {},
     "output_type": "display_data"
    }
   ],
   "source": [
    "best_model_path = glob.glob(os.path.join(\"models\", \"ZINC-GCN-model*.ckpt\"))\n",
    "best_model_path = sorted(best_model_path, key=os.path.getmtime)[-1]\n",
    "mpn_best = MolecularRegressor.load_from_checkpoint(\n",
    "    best_model_path, \n",
    "    model=mpn_model, \n",
    "    loss=nn.L1Loss(),\n",
    ")\n",
    "test_results = trainer.test(mpn_best, test_loader)"
   ]
  },
  {
   "cell_type": "markdown",
   "metadata": {},
   "source": [
    "... obtaining the predicted and actual logP ...\n"
   ]
  },
  {
   "cell_type": "code",
   "execution_count": null,
   "metadata": {},
   "outputs": [],
   "source": [
    "gts, preds = [], []\n",
    "for batch in test_loader:\n",
    "    y = batch.pop(\"y\")\n",
    "    gts.append(y)\n",
    "    \n",
    "    pred = mpn_best(batch)\n",
    "    preds.append(pred)\n",
    "\n",
    "gts = torch.cat(gts).cpu().numpy()\n",
    "preds = torch.cat(preds).detach().cpu().numpy()"
   ]
  },
  {
   "cell_type": "markdown",
   "metadata": {},
   "source": [
    "... and plot the predicted logP versus their ground truth values.\n"
   ]
  },
  {
   "cell_type": "code",
   "execution_count": null,
   "metadata": {},
   "outputs": [
    {
     "data": {
      "image/png": "[encoded data removed]",
      "text/plain": [
       "<Figure size 640x480 with 1 Axes>"
      ]
     },
     "metadata": {},
     "output_type": "display_data"
    }
   ],
   "source": [
    "heatmap, xedges, yedges = np.histogram2d(preds, gts, bins=50)\n",
    "extent = [xedges[0], xedges[-1], yedges[0], yedges[-1]]\n",
    "\n",
    "plt.clf()\n",
    "plt.plot([min(gts), max(gts)], [min(gts), max(gts)], \"r--\")\n",
    "plt.imshow(heatmap.T, extent=extent, origin=\"lower\")\n",
    "plt.xlabel(\"Predicted LogP\")\n",
    "plt.ylabel(\"True LogP\")\n",
    "plt.show()"
   ]
  },
  {
   "cell_type": "code",
   "execution_count": null,
   "metadata": {},
   "outputs": [],
   "source": []
  }
 ],
 "metadata": {
  "kernelspec": {
   "display_name": "py_env_dlcc",
   "language": "python",
   "name": "python3"
  },
  "language_info": {
   "codemirror_mode": {
    "name": "ipython",
    "version": 3
   },
   "file_extension": ".py",
   "mimetype": "text/x-python",
   "name": "python",
   "nbconvert_exporter": "python",
   "pygments_lexer": "ipython3",
   "version": "3.11.9"
  }
 },
 "nbformat": 4,
 "nbformat_minor": 2
}
