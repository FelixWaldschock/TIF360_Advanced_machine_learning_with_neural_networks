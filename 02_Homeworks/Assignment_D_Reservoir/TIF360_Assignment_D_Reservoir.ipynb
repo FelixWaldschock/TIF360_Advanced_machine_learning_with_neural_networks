{
 "cells": [
  {
   "cell_type": "markdown",
   "metadata": {},
   "source": [
    "Felix Waldschock | 2024\n",
    "AML TIF360\n",
    "Assigment D -- Reservoir Computing\n"
   ]
  },
  {
   "cell_type": "markdown",
   "metadata": {},
   "source": [
    "Subtask 1.)\n",
    "Generate a training set of time series x2(t) by by numerical solution of Equation (4), for σ = 10, r = 28, and b = 8/3. See Exercise 3.2 in Nonlinear time series analysis by Kantz and Schreiber [10] (2pt).\n"
   ]
  },
  {
   "cell_type": "code",
   "execution_count": null,
   "metadata": {},
   "outputs": [],
   "source": [
    "import numpy as np"
   ]
  },
  {
   "cell_type": "code",
   "execution_count": null,
   "metadata": {},
   "outputs": [],
   "source": [
    "def lorenzSystem(s, r, b):\n",
    "    "
   ]
  }
 ],
 "metadata": {
  "language_info": {
   "name": "python"
  }
 },
 "nbformat": 4,
 "nbformat_minor": 2
}
